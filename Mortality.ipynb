{
 "cells": [
  {
   "cell_type": "code",
   "execution_count": 1,
   "id": "ccbb3298-7f0a-4df7-a604-2f8119cbcef4",
   "metadata": {},
   "outputs": [],
   "source": [
    "import torch    \n",
    "import torch.nn as nn\n",
    "import torch.nn.functional as F"
   ]
  },
  {
   "cell_type": "code",
   "execution_count": 2,
   "id": "f9446539-1283-4a36-8444-bbbe233f42ae",
   "metadata": {},
   "outputs": [],
   "source": [
    "data = torch.load('Mortality/Mtest.pt')"
   ]
  },
  {
   "cell_type": "code",
   "execution_count": 3,
   "id": "b7d525b6-a111-4d95-98e5-917d756d12a7",
   "metadata": {},
   "outputs": [],
   "source": [
    "data0 = data[0:10]"
   ]
  },
  {
   "cell_type": "code",
   "execution_count": 4,
   "id": "eb0dc563-3a90-439c-b173-c37d61bc15fe",
   "metadata": {},
   "outputs": [
    {
     "data": {
      "text/plain": [
       "torch.Size([10, 288, 231])"
      ]
     },
     "execution_count": 4,
     "metadata": {},
     "output_type": "execute_result"
    }
   ],
   "source": [
    "data0.shape"
   ]
  },
  {
   "cell_type": "code",
   "execution_count": 5,
   "id": "59343bbf-759e-404d-a246-5d0343894ed9",
   "metadata": {},
   "outputs": [],
   "source": [
    "# device = torch.device('cuda:0')"
   ]
  },
  {
   "cell_type": "code",
   "execution_count": 6,
   "id": "6c281f59-ab2a-46b7-be9e-2e497394048d",
   "metadata": {},
   "outputs": [],
   "source": [
    "# data0 = data0.to(device)"
   ]
  },
  {
   "cell_type": "code",
   "execution_count": 6,
   "id": "e00d1e7b-1537-4ee4-843b-18dbcd513b21",
   "metadata": {},
   "outputs": [],
   "source": [
    "# from exp.exp_classification import Exp_Classification"
   ]
  },
  {
   "cell_type": "markdown",
   "id": "f3b03447-a8ab-490e-b126-9b725ece9ea1",
   "metadata": {},
   "source": [
    "## Available Models in the library"
   ]
  },
  {
   "cell_type": "markdown",
   "id": "c3b38520-ff90-4a1f-b13e-f6e3b691da65",
   "metadata": {},
   "source": [
    "| Model Name                    | Type |Reference                    | Works |\n",
    "|-------------------------------|-------------------------------|-------------------------------|-------------------------------|\n",
    "| Autoformer.py                 |Transformer|https://arxiv.org/abs/2106.13008, https://openreview.net/pdf?id=I55UqU-M11y| YES\n",
    "| Crossformer.py                |Transformer|https://openreview.net/forum?id=vSVLM2j9eie| YES\n",
    "| DLinear.py                    |MLP|https://arxiv.org/pdf/2205.13504.pdf| YES\n",
    "| ETSformer.py                  |Transformer|https://arxiv.org/abs/2202.01381| YES\n",
    "| FEDformer.py                  |Transformer|https://proceedings.mlr.press/v162/zhou22g/zhou22g.pdf|YES\n",
    "| FiLM.py                       |Legendre Memory Model - State Space |https://openreview.net/pdf?id=zTQdHSQUQWc| NO - OOM Error\n",
    "| FreTS.py                      |Frequency domain MLP|https://arxiv.org/pdf/2311.06184.pdf| NO - only designed for forecasting\n",
    "| Informer.py                   |Transformer|https://doi.org/10.1609/aaai.v35i12.17325|YES\n",
    "| Koopa.py                      |Dynamical System|https://arxiv.org/pdf/2305.18803|NO - some error\n",
    "| LightTS.py                    |MLP|https://arxiv.org/abs/2207.01186|YES\n",
    "| MICN.py                       |Convolution|https://openreview.net/pdf?id=zt53IDUR1U|YES\n",
    "| Mamba.py                      |State Space|https://arxiv.org/abs/2312.00752|NO - only designed for forecasting\n",
    "| MambaSimple.py                |State Space|https://arxiv.org/abs/2312.00752,https://github.com/johnma2006/mamba-minimal/|NO - only designed for forecasting||\n",
    "| Nonstationary_Transformer.py  |Transformer|https://arxiv.org/abs/2205.14415|YES\n",
    "| PatchTST.py                   |Transformer|https://arxiv.org/abs/2211.14730|YES\n",
    "| Pyraformer.py                 |Transformer|https://arxiv.org/abs/2402.05956|YES\n",
    "| Reformer.py                   |Transformer|https://arxiv.org/abs/2001.04451|YES\n",
    "| SCINet.py                     |Convolution|http://arxiv.org/abs/2106.09305|NO - only designed for forecasting\n",
    "| SegRNN.py                     |RNN|https://arxiv.org/abs/2308.11200.pdf|YES\n",
    "| TSMixer.py                    |MLP|https://arxiv.org/pdf/2303.06053|NO - only designed for forecasting\n",
    "| TemporalFusionTransformer.py  |--|https://arxiv.org/abs/1912.09363|NO - only designed for forecasting\n",
    "| TiDE.py                       |MLP|https://arxiv.org/pdf/2304.08424.pdf |NO - only designed for forecasting\n",
    "| TimeMixer.py                  |MLP|https://arxiv.org/abs/2405.14616|YES\n",
    "| TimesNet.py                   |Convolution|https://openreview.net/pdf?id=ju_Uqw384Oq, https://github.com/thuml/TimesNet|YES\n",
    "| Transformer.py                |Transformer|https://arxiv.org/abs/1706.03762|YES\n",
    "| iTransformer.py               |Transformer|https://arxiv.org/abs/2310.06625|YES"
   ]
  },
  {
   "cell_type": "markdown",
   "id": "9e884270-2492-40cd-a799-e139634f822c",
   "metadata": {},
   "source": [
    "## Available Models as per Medformer benchmark"
   ]
  },
  {
   "cell_type": "markdown",
   "id": "e083b672-cabb-4866-92da-309cfe836776",
   "metadata": {},
   "source": [
    "| Model Name       | Link       | Works\n",
    "|------------------|------------------|------------------|\n",
    "| Autoformer       |https://arxiv.org/abs/2106.13008| YES\n",
    "| Crossformer      |https://openreview.net/forum?id=vSVLM2j9eie| YES\n",
    "| FEDformer        |https://proceedings.mlr.press/v162/zhou22g/zhou22g.pdf|YES\n",
    "| Informer         |https://doi.org/10.1609/aaai.v35i12.17325|YES\n",
    "| iTransformer     |https://arxiv.org/abs/2310.06625|YES\n",
    "| MTST             |https://proceedings.mlr.press/v238/zhang24l/zhang24l.pdf|YES\n",
    "| Nonformer        |https://arxiv.org/abs/2205.14415|YES\n",
    "| PatchTST         |https://arxiv.org/abs/2211.14730|YES\n",
    "| Pathformer       |https://arxiv.org/abs/2402.05956|Code NA in Benchmark\n",
    "| Reformer         |https://arxiv.org/abs/2001.04451|YES\n",
    "| Transformer      |https://arxiv.org/abs/1706.03762|YES\n",
    "| Medformer        |https://arxiv.org/pdf/2405.19363|YES"
   ]
  },
  {
   "cell_type": "markdown",
   "id": "cb4c750d-1219-49cf-a65f-7247d8e4c3df",
   "metadata": {},
   "source": []
  },
  {
   "cell_type": "markdown",
   "id": "7259ef96-48af-4dde-9d1b-4bb0639927f6",
   "metadata": {},
   "source": [
    "## Setup Arguments for models"
   ]
  },
  {
   "cell_type": "code",
   "execution_count": 5,
   "id": "8d6194af-53b6-4355-b75c-41f95d45ffd7",
   "metadata": {},
   "outputs": [],
   "source": [
    "class Args:\n",
    "    def __init__(self):\n",
    "        self.task_name = 'classification'  # Set the task to classification\n",
    "        self.seq_len = 288  # Input sequence length\n",
    "        self.label_len = 0  # Not needed for classification, so set to 0\n",
    "        self.pred_len = 0  # Not needed for classification, so set to 0\n",
    "        self.enc_in = 231  # Input feature dimension (number of features)\n",
    "        self.dec_in = 231  # Input feature dimension (number of features) ## required for FEDformer\n",
    "        self.num_class = 1  # Number of classes for classification\n",
    "        self.d_model = 16  # Model's hidden dimension\n",
    "        self.e_layers = 6  # Number of encoder layers\n",
    "        self.d_layers = 6  # Number of encoder layers\n",
    "        self.d_ff = 16  # Feed-forward dimension\n",
    "        self.dropout = 0.1  # Dropout rate\n",
    "        self.factor = 5  # AutoCorrelation factor\n",
    "        self.n_heads = 8  # Number of attention heads\n",
    "        self.moving_avg = 25  # Moving average kernel size\n",
    "        self.activation = 'gelu'  # Activation function for the model\n",
    "        self.embed = 'timeF'  # Embedding type (can vary based on implementation)\n",
    "        self.freq = 'h'  # Frequency of the time feature\n",
    "        # self.c_out = 1  # Output feature dimension (for classification, it's the number of classes) ## this is valid for some model but\n",
    "        self.c_out = 231  # Output feature dimension (for classification, it's the number of classes) ## valid for MICN\n",
    "        self.top_k = 1 # required in ETSformer\n",
    "        self.distil= False ## required in Informer\n",
    "        self.patch_len_list = '4,8,16' ## required in MTST\n",
    "        self.output_attention=False\n",
    "        self.p_hidden_dims = [16] ## Req in Nonstationary Transformer\n",
    "        self.p_hidden_layers = 1 ## Req in Nonstationary Transformer\n",
    "        self.single_channel = True ## Medformer\n",
    "        self.augmentations = 'jitter0.2,scale0.2,drop0.5' ## Medformer\n",
    "        self.no_inter_attn = False ## Medformer\n",
    "        self.seg_len = 32\n",
    "        ## Req for TimeMixer ------------------\n",
    "        self.down_sampling_window = 1 \n",
    "        self.channel_independence = False\n",
    "        self.decomp_method = 'moving_avg'\n",
    "        # self.decomp_method = 'dft_decomp'\n",
    "        self.down_sampling_layers = 1\n",
    "        self.use_norm = 0\n",
    "        self.down_sampling_method = 'avg'\n",
    "        ## Req for TimesNet ------\n",
    "        self.num_kernels = 2\n",
    "        \n",
    "        # GPU settings\n",
    "        self.use_multi_gpu = False\n",
    "        self.use_gpu = True\n",
    "        self.gpu = 0  # Use the first GPU (can be adjusted if using multiple)\n",
    "        self.devices = '0'  # Device ids (if using multiple GPUs)\n",
    "\n"
   ]
  },
  {
   "cell_type": "code",
   "execution_count": 6,
   "id": "e0633495-f275-471e-919d-0ec063fa8a79",
   "metadata": {},
   "outputs": [],
   "source": [
    "# Instantiate the args object\n",
    "args = Args()"
   ]
  },
  {
   "cell_type": "code",
   "execution_count": 20,
   "id": "3d858edc-c5cd-403d-ad11-c9e2a19dbeab",
   "metadata": {},
   "outputs": [],
   "source": [
    "# temp_mask = torch.ones(10, 288) "
   ]
  },
  {
   "cell_type": "markdown",
   "id": "338b92ee-1b7d-42c9-8aa1-c594b8edda9e",
   "metadata": {},
   "source": [
    "## Autoformer"
   ]
  },
  {
   "cell_type": "code",
   "execution_count": 34,
   "id": "429cbea6-d96e-4ac1-9792-f0f2e76e24d3",
   "metadata": {},
   "outputs": [],
   "source": [
    "# from models.Autoformer import Model"
   ]
  },
  {
   "cell_type": "code",
   "execution_count": 31,
   "id": "abec5bb8-24c1-4230-9d67-35388e7edf90",
   "metadata": {},
   "outputs": [],
   "source": [
    "# Instantiate the Autoformer model\n",
    "model = Model(args).float()"
   ]
  },
  {
   "cell_type": "code",
   "execution_count": 32,
   "id": "946bb995-c0fb-4565-80cf-a58803461e21",
   "metadata": {},
   "outputs": [],
   "source": [
    "# model"
   ]
  },
  {
   "cell_type": "code",
   "execution_count": 33,
   "id": "14571be4-73ba-4d00-b868-85ebc57da47a",
   "metadata": {},
   "outputs": [
    {
     "name": "stdout",
     "output_type": "stream",
     "text": [
      "Number of parameters: 1082634\n"
     ]
    }
   ],
   "source": [
    "total_params = sum(p.numel() for p in model.parameters())\n",
    "print(f\"Number of parameters: {total_params}\")"
   ]
  },
  {
   "cell_type": "code",
   "execution_count": 13,
   "id": "8a898512-84e5-471c-b4e8-209e2740131a",
   "metadata": {},
   "outputs": [],
   "source": [
    "out = model(data0, temp_mask, None, None)"
   ]
  },
  {
   "cell_type": "code",
   "execution_count": 14,
   "id": "ed70cee3-d6e2-4541-a6de-87f5f2a0ab90",
   "metadata": {},
   "outputs": [
    {
     "data": {
      "text/plain": [
       "tensor([[-0.3617],\n",
       "        [-0.1915],\n",
       "        [-0.2387],\n",
       "        [ 0.1611],\n",
       "        [-0.1069],\n",
       "        [ 0.2503],\n",
       "        [-0.5381],\n",
       "        [ 0.1001],\n",
       "        [ 0.0196],\n",
       "        [-0.5541]], grad_fn=<AddmmBackward0>)"
      ]
     },
     "execution_count": 14,
     "metadata": {},
     "output_type": "execute_result"
    }
   ],
   "source": [
    "out"
   ]
  },
  {
   "cell_type": "markdown",
   "id": "7c53b4c4-7939-4da6-8cd2-2add8ff41226",
   "metadata": {},
   "source": [
    "## Crossformer"
   ]
  },
  {
   "cell_type": "code",
   "execution_count": 9,
   "id": "0d79f068-a666-473f-9274-ea5904fdc7da",
   "metadata": {},
   "outputs": [],
   "source": [
    "from models.Crossformer import Model"
   ]
  },
  {
   "cell_type": "code",
   "execution_count": 12,
   "id": "730dc6b9-831c-479d-8964-3bfa6938f584",
   "metadata": {},
   "outputs": [],
   "source": [
    "# Instantiate the Autoformer model\n",
    "model = Model(args).float()"
   ]
  },
  {
   "cell_type": "code",
   "execution_count": 16,
   "id": "c2976e11-b74c-482e-bc4d-500af26b2823",
   "metadata": {},
   "outputs": [],
   "source": [
    "out = model(data0, temp_mask, None, None)"
   ]
  },
  {
   "cell_type": "code",
   "execution_count": 17,
   "id": "36a45144-2145-4e8d-9bad-bf9465090bf6",
   "metadata": {},
   "outputs": [
    {
     "data": {
      "text/plain": [
       "tensor([[0.1584],\n",
       "        [0.0566],\n",
       "        [0.3123],\n",
       "        [0.2433],\n",
       "        [0.7558],\n",
       "        [0.4653],\n",
       "        [0.0824],\n",
       "        [0.3751],\n",
       "        [0.4441],\n",
       "        [0.3370]], grad_fn=<AddmmBackward0>)"
      ]
     },
     "execution_count": 17,
     "metadata": {},
     "output_type": "execute_result"
    }
   ],
   "source": [
    "out"
   ]
  },
  {
   "cell_type": "markdown",
   "id": "ca2311e4-3efa-4d21-a870-f55beb5f7732",
   "metadata": {},
   "source": [
    "## DLinear -- not in the medformer benchmark"
   ]
  },
  {
   "cell_type": "code",
   "execution_count": 19,
   "id": "6512870d-8077-4e0c-8d95-3c60a50fed21",
   "metadata": {},
   "outputs": [],
   "source": [
    "from models.DLinear import Model"
   ]
  },
  {
   "cell_type": "code",
   "execution_count": 20,
   "id": "7686c705-e9f7-4951-96ef-6750c42fbbc4",
   "metadata": {},
   "outputs": [],
   "source": [
    "# Instantiate the Autoformer model\n",
    "model = Model(args).float()"
   ]
  },
  {
   "cell_type": "code",
   "execution_count": 21,
   "id": "34286c5f-f606-4d90-811a-e4d2efed64cb",
   "metadata": {},
   "outputs": [],
   "source": [
    "out = model(data0, temp_mask, None, None)"
   ]
  },
  {
   "cell_type": "code",
   "execution_count": 22,
   "id": "576a3d13-41ab-405a-8897-fec273b1324c",
   "metadata": {},
   "outputs": [
    {
     "data": {
      "text/plain": [
       "tensor([[-0.0138],\n",
       "        [ 0.0093],\n",
       "        [-0.0014],\n",
       "        [ 0.0107],\n",
       "        [-0.0177],\n",
       "        [-0.0002],\n",
       "        [ 0.0110],\n",
       "        [-0.0093],\n",
       "        [ 0.0025],\n",
       "        [-0.0041]], grad_fn=<AddmmBackward0>)"
      ]
     },
     "execution_count": 22,
     "metadata": {},
     "output_type": "execute_result"
    }
   ],
   "source": [
    "out"
   ]
  },
  {
   "cell_type": "markdown",
   "id": "d00dd203-4fd0-4fea-aa10-cf98ff90ab99",
   "metadata": {},
   "source": [
    "## ETSformer - not in the medformer benchmark"
   ]
  },
  {
   "cell_type": "code",
   "execution_count": 34,
   "id": "ecbb05d8-74c9-45e3-886b-4800789afb1b",
   "metadata": {},
   "outputs": [],
   "source": [
    "from models.ETSformer import Model"
   ]
  },
  {
   "cell_type": "code",
   "execution_count": 35,
   "id": "44bc3e3a-bd39-49e8-af67-f27913e5efbc",
   "metadata": {},
   "outputs": [],
   "source": [
    "model = Model(args).float()"
   ]
  },
  {
   "cell_type": "code",
   "execution_count": 36,
   "id": "35becd36-22cf-483b-baaa-697881033b32",
   "metadata": {},
   "outputs": [
    {
     "name": "stderr",
     "output_type": "stream",
     "text": [
      "/home/shashank/anaconda3/envs/timeserieslib/lib/python3.9/site-packages/torch/functional.py:504: UserWarning: torch.meshgrid: in an upcoming release, it will be required to pass the indexing argument. (Triggered internally at ../aten/src/ATen/native/TensorShape.cpp:3526.)\n",
      "  return _VF.meshgrid(tensors, **kwargs)  # type: ignore[attr-defined]\n"
     ]
    }
   ],
   "source": [
    "out = model(data0, temp_mask, None, None)"
   ]
  },
  {
   "cell_type": "code",
   "execution_count": 37,
   "id": "f07c96c8-a653-482a-be74-90f32bdb1f31",
   "metadata": {},
   "outputs": [
    {
     "data": {
      "text/plain": [
       "tensor([[-0.3028],\n",
       "        [-0.0773],\n",
       "        [ 0.0931],\n",
       "        [-0.4282],\n",
       "        [-0.7638],\n",
       "        [-0.3587],\n",
       "        [-0.4388],\n",
       "        [ 0.3406],\n",
       "        [-0.2195],\n",
       "        [ 0.0528]], grad_fn=<AddmmBackward0>)"
      ]
     },
     "execution_count": 37,
     "metadata": {},
     "output_type": "execute_result"
    }
   ],
   "source": [
    "out"
   ]
  },
  {
   "cell_type": "markdown",
   "id": "a49482eb-e1ab-4493-9ba0-e329e659d03a",
   "metadata": {},
   "source": [
    "## FEDformer"
   ]
  },
  {
   "cell_type": "code",
   "execution_count": 42,
   "id": "7594e9b0-8f24-43e1-84ba-a1b75059e1a8",
   "metadata": {},
   "outputs": [],
   "source": [
    "from models.FEDformer import Model"
   ]
  },
  {
   "cell_type": "code",
   "execution_count": 45,
   "id": "18317b4d-894d-4ca3-9ef5-8652d3374785",
   "metadata": {},
   "outputs": [
    {
     "name": "stdout",
     "output_type": "stream",
     "text": [
      "fourier enhanced block used!\n",
      "modes=32, index=[8, 13, 18, 21, 24, 26, 35, 36, 38, 42, 44, 55, 70, 73, 84, 86, 87, 88, 93, 95, 103, 108, 110, 113, 115, 118, 119, 121, 128, 139, 141, 143]\n",
      "fourier enhanced block used!\n",
      "modes=32, index=[0, 4, 6, 10, 12, 14, 15, 16, 19, 20, 21, 23, 24, 29, 33, 34, 37, 39, 41, 45, 47, 48, 50, 54, 56, 57, 58, 59, 62, 67, 69, 70]\n",
      " fourier enhanced cross attention used!\n",
      "modes_q=32, index_q=[6, 7, 13, 14, 15, 17, 18, 19, 20, 21, 23, 24, 25, 27, 30, 31, 32, 33, 34, 36, 38, 41, 42, 44, 46, 50, 51, 53, 54, 63, 66, 70]\n",
      "modes_kv=32, index_kv=[2, 4, 13, 14, 15, 21, 27, 30, 32, 36, 39, 45, 46, 48, 51, 67, 68, 86, 87, 92, 97, 98, 99, 103, 106, 109, 125, 134, 136, 139, 140, 141]\n"
     ]
    }
   ],
   "source": [
    "model = Model(args).float()"
   ]
  },
  {
   "cell_type": "code",
   "execution_count": 46,
   "id": "ce1fd7dc-c283-4771-a685-6d73d671cdf7",
   "metadata": {},
   "outputs": [],
   "source": [
    "out = model(data0, temp_mask, None, None)"
   ]
  },
  {
   "cell_type": "code",
   "execution_count": 47,
   "id": "1587df61-e22e-40ba-a20a-0baa4489fabb",
   "metadata": {},
   "outputs": [
    {
     "data": {
      "text/plain": [
       "tensor([[-0.1858],\n",
       "        [ 0.2457],\n",
       "        [-0.3740],\n",
       "        [ 0.1871],\n",
       "        [-0.2296],\n",
       "        [-0.2738],\n",
       "        [-0.1334],\n",
       "        [ 0.5448],\n",
       "        [ 0.3772],\n",
       "        [-0.2477]], grad_fn=<AddmmBackward0>)"
      ]
     },
     "execution_count": 47,
     "metadata": {},
     "output_type": "execute_result"
    }
   ],
   "source": [
    "out"
   ]
  },
  {
   "cell_type": "markdown",
   "id": "6e811d50-92fb-4b95-a861-93251906bf17",
   "metadata": {},
   "source": [
    "## FiLM - Frequency improved Legendre Memory Model for Long-term Time Series Forecasting - not in medformer benchmark"
   ]
  },
  {
   "cell_type": "code",
   "execution_count": 8,
   "id": "8d0c43d1-ac37-4380-b48a-1a6bddad0007",
   "metadata": {},
   "outputs": [],
   "source": [
    "from models.FiLM import Model"
   ]
  },
  {
   "cell_type": "code",
   "execution_count": 15,
   "id": "4b60e3e7-e110-47f6-b7d7-04affafa43a9",
   "metadata": {},
   "outputs": [
    {
     "data": {
      "text/plain": [
       "Model(\n",
       "  (legts): ModuleList(\n",
       "    (0-2): 3 x HiPPO_LegT()\n",
       "  )\n",
       "  (spec_conv_1): ModuleList(\n",
       "    (0-2): 3 x SpectralConv1d()\n",
       "  )\n",
       "  (mlp): Linear(in_features=3, out_features=1, bias=True)\n",
       "  (dropout): Dropout(p=0.1, inplace=False)\n",
       "  (projection): Linear(in_features=66528, out_features=1, bias=True)\n",
       ")"
      ]
     },
     "execution_count": 15,
     "metadata": {},
     "output_type": "execute_result"
    }
   ],
   "source": [
    "model = Model(args).float()\n",
    "device = torch.device('cuda:0')\n",
    "model.to(device)"
   ]
  },
  {
   "cell_type": "code",
   "execution_count": 16,
   "id": "a1729ed9-a5b6-4d19-b780-64461992762f",
   "metadata": {},
   "outputs": [
    {
     "name": "stdout",
     "output_type": "stream",
     "text": [
      "Number of parameters: 12649907\n"
     ]
    }
   ],
   "source": [
    "total_params = sum(p.numel() for p in model.parameters())\n",
    "print(f\"Number of parameters: {total_params}\")"
   ]
  },
  {
   "cell_type": "code",
   "execution_count": 18,
   "id": "3db61bae-4f45-4567-9b80-fd266d3a48cd",
   "metadata": {},
   "outputs": [],
   "source": [
    "# out = model(data0, temp_mask, None, None)"
   ]
  },
  {
   "cell_type": "markdown",
   "id": "fb6848b8-d8cc-4f46-8b91-3829830226a6",
   "metadata": {},
   "source": [
    "## Informer"
   ]
  },
  {
   "cell_type": "code",
   "execution_count": 8,
   "id": "d92a1125-1532-4d0e-9058-b0b3fe4ffc65",
   "metadata": {},
   "outputs": [],
   "source": [
    "from models.Informer import Model"
   ]
  },
  {
   "cell_type": "code",
   "execution_count": 9,
   "id": "1d32aac1-d950-4e8a-b2f4-665040ec0b87",
   "metadata": {},
   "outputs": [],
   "source": [
    "model = Model(args).float()"
   ]
  },
  {
   "cell_type": "code",
   "execution_count": 10,
   "id": "0aa38c51-f17f-4212-92b5-694be5dd7d23",
   "metadata": {},
   "outputs": [
    {
     "name": "stdout",
     "output_type": "stream",
     "text": [
      "Number of parameters: 2203522\n"
     ]
    }
   ],
   "source": [
    "total_params = sum(p.numel() for p in model.parameters())\n",
    "print(f\"Number of parameters: {total_params}\")"
   ]
  },
  {
   "cell_type": "code",
   "execution_count": 13,
   "id": "2e6ab494-5a15-4624-8e0b-539975f494bb",
   "metadata": {},
   "outputs": [],
   "source": [
    "out = model(data0, temp_mask, None, None)"
   ]
  },
  {
   "cell_type": "code",
   "execution_count": 14,
   "id": "5ca138c3-cb3c-41cb-bd59-ad05558c881d",
   "metadata": {},
   "outputs": [
    {
     "data": {
      "text/plain": [
       "tensor([[-0.2961],\n",
       "        [-0.1234],\n",
       "        [-0.3028],\n",
       "        [-0.4261],\n",
       "        [-0.3749],\n",
       "        [ 0.0280],\n",
       "        [ 0.1748],\n",
       "        [-0.1680],\n",
       "        [ 0.0282],\n",
       "        [-0.2995]], grad_fn=<AddmmBackward0>)"
      ]
     },
     "execution_count": 14,
     "metadata": {},
     "output_type": "execute_result"
    }
   ],
   "source": [
    "out"
   ]
  },
  {
   "cell_type": "markdown",
   "id": "e32ff726-3f90-4854-b9ec-2e5937065a26",
   "metadata": {},
   "source": [
    "## iTransformer: Inverted Transformers "
   ]
  },
  {
   "cell_type": "code",
   "execution_count": 16,
   "id": "cb095df1-0582-4ef9-bcb4-23813c562810",
   "metadata": {},
   "outputs": [],
   "source": [
    "from models.iTransformer import Model"
   ]
  },
  {
   "cell_type": "code",
   "execution_count": 17,
   "id": "26ca2370-5f6f-46b0-8c50-167e72103e4f",
   "metadata": {},
   "outputs": [],
   "source": [
    "model = Model(args).float()"
   ]
  },
  {
   "cell_type": "code",
   "execution_count": 18,
   "id": "f866693a-01c4-42fb-afc7-4e2ad6edff7c",
   "metadata": {},
   "outputs": [
    {
     "name": "stdout",
     "output_type": "stream",
     "text": [
      "Number of parameters: 861697\n"
     ]
    }
   ],
   "source": [
    "total_params = sum(p.numel() for p in model.parameters())\n",
    "print(f\"Number of parameters: {total_params}\")"
   ]
  },
  {
   "cell_type": "code",
   "execution_count": 19,
   "id": "c67caf89-d9f2-4a1d-8c2e-f16b2b356c5e",
   "metadata": {},
   "outputs": [],
   "source": [
    "out = model(data0, temp_mask, None, None)"
   ]
  },
  {
   "cell_type": "code",
   "execution_count": 20,
   "id": "dab46a82-2f35-4413-8661-2bdfec44ab4f",
   "metadata": {},
   "outputs": [
    {
     "data": {
      "text/plain": [
       "tensor([[0.0837],\n",
       "        [0.3556],\n",
       "        [1.3128],\n",
       "        [0.1028],\n",
       "        [0.1732],\n",
       "        [0.7815],\n",
       "        [0.0868],\n",
       "        [0.1491],\n",
       "        [0.3529],\n",
       "        [0.5075]], grad_fn=<AddmmBackward0>)"
      ]
     },
     "execution_count": 20,
     "metadata": {},
     "output_type": "execute_result"
    }
   ],
   "source": [
    "out"
   ]
  },
  {
   "cell_type": "markdown",
   "id": "f12b2c50-8e13-4a0b-9640-194265b56918",
   "metadata": {},
   "source": [
    "## MTST -  not in time series library - part of medformer benchmark"
   ]
  },
  {
   "cell_type": "code",
   "execution_count": 8,
   "id": "508ad3c7-af4d-458c-95ce-b09dba8f3e5d",
   "metadata": {},
   "outputs": [],
   "source": [
    "from models.MTST import Model"
   ]
  },
  {
   "cell_type": "code",
   "execution_count": 9,
   "id": "bcfc7b4a-f2ab-4efb-9626-bf4926e5e3ee",
   "metadata": {},
   "outputs": [],
   "source": [
    "model = Model(args).float()"
   ]
  },
  {
   "cell_type": "code",
   "execution_count": 10,
   "id": "ba92a430-00a3-4295-a368-b9c262dc69e7",
   "metadata": {},
   "outputs": [
    {
     "name": "stdout",
     "output_type": "stream",
     "text": [
      "Number of parameters: 507857\n"
     ]
    }
   ],
   "source": [
    "total_params = sum(p.numel() for p in model.parameters())\n",
    "print(f\"Number of parameters: {total_params}\")"
   ]
  },
  {
   "cell_type": "code",
   "execution_count": 11,
   "id": "be9c53b5-dfb9-494b-9a65-e657a76e8614",
   "metadata": {},
   "outputs": [],
   "source": [
    "out = model(data0, temp_mask, None, None)"
   ]
  },
  {
   "cell_type": "code",
   "execution_count": 12,
   "id": "ba9a656f-29dd-4593-b9c4-c6fd0cda7ef3",
   "metadata": {},
   "outputs": [
    {
     "data": {
      "text/plain": [
       "tensor([[0.8156],\n",
       "        [0.8147],\n",
       "        [1.3681],\n",
       "        [0.9639],\n",
       "        [1.6558],\n",
       "        [1.4902],\n",
       "        [1.9889],\n",
       "        [1.9877],\n",
       "        [0.9710],\n",
       "        [1.0086]], grad_fn=<AddmmBackward0>)"
      ]
     },
     "execution_count": 12,
     "metadata": {},
     "output_type": "execute_result"
    }
   ],
   "source": [
    "out"
   ]
  },
  {
   "cell_type": "markdown",
   "id": "eccb115c-64b1-4838-a975-67e854fc44be",
   "metadata": {},
   "source": [
    "## Non-former - non-stationary transformer"
   ]
  },
  {
   "cell_type": "code",
   "execution_count": 9,
   "id": "b20b8e09-c503-4c0e-b196-dea2484dcd53",
   "metadata": {},
   "outputs": [],
   "source": [
    "from models.Nonstationary_Transformer import Model"
   ]
  },
  {
   "cell_type": "code",
   "execution_count": 19,
   "id": "687a74f2-a88b-4ac3-bfd8-6e38b1be202d",
   "metadata": {},
   "outputs": [],
   "source": [
    "model = Model(args).float()"
   ]
  },
  {
   "cell_type": "code",
   "execution_count": 20,
   "id": "83d8904e-2c64-4f57-a3fb-55bf4da922a3",
   "metadata": {},
   "outputs": [
    {
     "name": "stdout",
     "output_type": "stream",
     "text": [
      "Number of parameters: 47137\n"
     ]
    }
   ],
   "source": [
    "total_params = sum(p.numel() for p in model.parameters())\n",
    "print(f\"Number of parameters: {total_params}\")"
   ]
  },
  {
   "cell_type": "code",
   "execution_count": 21,
   "id": "4b8da8c9-dd8d-4017-b472-fb4ae3c1d0ff",
   "metadata": {},
   "outputs": [],
   "source": [
    "out = model(data0, temp_mask, None, None)"
   ]
  },
  {
   "cell_type": "code",
   "execution_count": 22,
   "id": "bad263b4-ff72-4f68-a536-137b13502f8e",
   "metadata": {},
   "outputs": [
    {
     "data": {
      "text/plain": [
       "tensor([[ 0.1287],\n",
       "        [-0.1771],\n",
       "        [-0.2860],\n",
       "        [-0.2683],\n",
       "        [ 0.3625],\n",
       "        [ 0.2088],\n",
       "        [ 0.0486],\n",
       "        [ 0.1083],\n",
       "        [-0.3531],\n",
       "        [ 0.0852]], grad_fn=<AddmmBackward0>)"
      ]
     },
     "execution_count": 22,
     "metadata": {},
     "output_type": "execute_result"
    }
   ],
   "source": [
    "out"
   ]
  },
  {
   "cell_type": "markdown",
   "id": "9b492734-b265-40be-b0b9-0b7aace7cd23",
   "metadata": {},
   "source": [
    "## PATCH-TST"
   ]
  },
  {
   "cell_type": "code",
   "execution_count": 23,
   "id": "2061c878-fdd3-40af-91e3-8b8dd825cad6",
   "metadata": {},
   "outputs": [],
   "source": [
    "from models.PatchTST import Model"
   ]
  },
  {
   "cell_type": "code",
   "execution_count": 24,
   "id": "795807cc-d801-4bd9-8947-ed9b855f7309",
   "metadata": {},
   "outputs": [],
   "source": [
    "model = Model(args).float()"
   ]
  },
  {
   "cell_type": "code",
   "execution_count": 25,
   "id": "a9a70f20-44ce-40e3-985a-a1658f271c19",
   "metadata": {},
   "outputs": [
    {
     "name": "stdout",
     "output_type": "stream",
     "text": [
      "Number of parameters: 143521\n"
     ]
    }
   ],
   "source": [
    "total_params = sum(p.numel() for p in model.parameters())\n",
    "print(f\"Number of parameters: {total_params}\")"
   ]
  },
  {
   "cell_type": "code",
   "execution_count": 26,
   "id": "defa94a5-1216-40ea-8324-f529e8364a88",
   "metadata": {},
   "outputs": [],
   "source": [
    "out = model(data0, temp_mask, None, None)"
   ]
  },
  {
   "cell_type": "code",
   "execution_count": 27,
   "id": "1af23463-7ab1-414b-bcd0-39742eb9ae08",
   "metadata": {},
   "outputs": [
    {
     "data": {
      "text/plain": [
       "tensor([[ 0.2955],\n",
       "        [ 0.7070],\n",
       "        [-0.9226],\n",
       "        [ 0.2666],\n",
       "        [-0.4260],\n",
       "        [-0.1465],\n",
       "        [ 0.1830],\n",
       "        [-0.3104],\n",
       "        [-0.0689],\n",
       "        [-0.2544]], grad_fn=<AddmmBackward0>)"
      ]
     },
     "execution_count": 27,
     "metadata": {},
     "output_type": "execute_result"
    }
   ],
   "source": [
    "out"
   ]
  },
  {
   "cell_type": "markdown",
   "id": "13749c83-49da-405e-aca6-4ba5dcf3e53b",
   "metadata": {},
   "source": [
    "## Reformer"
   ]
  },
  {
   "cell_type": "code",
   "execution_count": 28,
   "id": "4163c2a5-2d0b-4e7f-bef2-b7b388c9b42d",
   "metadata": {},
   "outputs": [],
   "source": [
    "from models.Reformer import Model"
   ]
  },
  {
   "cell_type": "code",
   "execution_count": 29,
   "id": "646874d6-b683-4005-a4a0-9940e790dfd2",
   "metadata": {},
   "outputs": [],
   "source": [
    "model = Model(args).float()"
   ]
  },
  {
   "cell_type": "code",
   "execution_count": 30,
   "id": "7934745f-d72a-4f1c-99ec-0898b4aa0c9d",
   "metadata": {},
   "outputs": [
    {
     "name": "stdout",
     "output_type": "stream",
     "text": [
      "Number of parameters: 24145\n"
     ]
    }
   ],
   "source": [
    "total_params = sum(p.numel() for p in model.parameters())\n",
    "print(f\"Number of parameters: {total_params}\")"
   ]
  },
  {
   "cell_type": "code",
   "execution_count": 31,
   "id": "e80a6dab-c220-4ecf-95d9-6923d19166bc",
   "metadata": {},
   "outputs": [],
   "source": [
    "out = model(data0, temp_mask, None, None)"
   ]
  },
  {
   "cell_type": "code",
   "execution_count": 32,
   "id": "0c75b39d-99bd-46c7-b99f-50df769d9e68",
   "metadata": {},
   "outputs": [
    {
     "data": {
      "text/plain": [
       "tensor([[-0.1137],\n",
       "        [ 0.0874],\n",
       "        [-0.0072],\n",
       "        [-0.4799],\n",
       "        [ 0.1631],\n",
       "        [-0.5913],\n",
       "        [-0.3488],\n",
       "        [-0.2850],\n",
       "        [-0.1931],\n",
       "        [ 0.2805]], grad_fn=<AddmmBackward0>)"
      ]
     },
     "execution_count": 32,
     "metadata": {},
     "output_type": "execute_result"
    }
   ],
   "source": [
    "out"
   ]
  },
  {
   "cell_type": "markdown",
   "id": "1dc9554b-0233-4fe8-a66a-8c292fc331a1",
   "metadata": {},
   "source": [
    "## Transformer  - Standard - attention is all you need"
   ]
  },
  {
   "cell_type": "code",
   "execution_count": 33,
   "id": "c00bc1b7-7017-4af5-bcd4-10d5d6510105",
   "metadata": {},
   "outputs": [],
   "source": [
    "from models.Transformer import Model"
   ]
  },
  {
   "cell_type": "code",
   "execution_count": 34,
   "id": "7bbb689f-9bc8-438b-992d-26956b73cbe4",
   "metadata": {},
   "outputs": [],
   "source": [
    "model = Model(args).float()"
   ]
  },
  {
   "cell_type": "code",
   "execution_count": 35,
   "id": "018e5c77-5d90-4590-af9d-cc5332427931",
   "metadata": {},
   "outputs": [
    {
     "name": "stdout",
     "output_type": "stream",
     "text": [
      "Number of parameters: 25969\n"
     ]
    }
   ],
   "source": [
    "total_params = sum(p.numel() for p in model.parameters())\n",
    "print(f\"Number of parameters: {total_params}\")"
   ]
  },
  {
   "cell_type": "code",
   "execution_count": 36,
   "id": "2ff120db-c6da-4503-afa8-96c678a9a615",
   "metadata": {},
   "outputs": [],
   "source": [
    "out = model(data0, temp_mask, None, None)"
   ]
  },
  {
   "cell_type": "code",
   "execution_count": 37,
   "id": "af548435-22f5-47e1-b01f-2dd0dfd73b4f",
   "metadata": {},
   "outputs": [
    {
     "data": {
      "text/plain": [
       "tensor([[-0.2213],\n",
       "        [ 0.0991],\n",
       "        [-0.4337],\n",
       "        [-0.2250],\n",
       "        [-0.3431],\n",
       "        [-0.4161],\n",
       "        [-0.0944],\n",
       "        [-0.3625],\n",
       "        [ 0.0429],\n",
       "        [-0.0595]], grad_fn=<AddmmBackward0>)"
      ]
     },
     "execution_count": 37,
     "metadata": {},
     "output_type": "execute_result"
    }
   ],
   "source": [
    "out"
   ]
  },
  {
   "cell_type": "markdown",
   "id": "4ae162ec-49ef-4ecf-ad75-74d756048cdc",
   "metadata": {},
   "source": [
    "## Medformer"
   ]
  },
  {
   "cell_type": "code",
   "execution_count": 8,
   "id": "4e17df6b-bda8-47fd-9042-cb9173df1c48",
   "metadata": {},
   "outputs": [],
   "source": [
    "from models.Medformer import Model"
   ]
  },
  {
   "cell_type": "code",
   "execution_count": 9,
   "id": "a2b1e095-8efe-4bba-a062-fe978c91cfb5",
   "metadata": {},
   "outputs": [],
   "source": [
    "model = Model(args).float()"
   ]
  },
  {
   "cell_type": "code",
   "execution_count": 10,
   "id": "83c37752-aa70-46d3-beb2-e08048f5c916",
   "metadata": {},
   "outputs": [
    {
     "name": "stdout",
     "output_type": "stream",
     "text": [
      "Number of parameters: 507073\n"
     ]
    }
   ],
   "source": [
    "total_params = sum(p.numel() for p in model.parameters())\n",
    "print(f\"Number of parameters: {total_params}\")"
   ]
  },
  {
   "cell_type": "code",
   "execution_count": 11,
   "id": "8a2071a5-16a0-43de-a57f-d9dcbbe686e1",
   "metadata": {},
   "outputs": [],
   "source": [
    "out = model(data0, temp_mask, None, None)"
   ]
  },
  {
   "cell_type": "code",
   "execution_count": 12,
   "id": "ff1ae893-3ba2-44df-b66d-aa3b1abe20c7",
   "metadata": {},
   "outputs": [
    {
     "data": {
      "text/plain": [
       "tensor([[ 0.1737],\n",
       "        [ 0.3458],\n",
       "        [-0.0243],\n",
       "        [ 0.1276],\n",
       "        [ 0.4908],\n",
       "        [ 0.1446],\n",
       "        [-0.1049],\n",
       "        [ 0.3501],\n",
       "        [-0.1712],\n",
       "        [-0.0282]], grad_fn=<AddmmBackward0>)"
      ]
     },
     "execution_count": 12,
     "metadata": {},
     "output_type": "execute_result"
    }
   ],
   "source": [
    "out"
   ]
  },
  {
   "cell_type": "markdown",
   "id": "8f3dbf52-b1e4-492e-9b4f-fa5f8a459ab2",
   "metadata": {},
   "source": [
    "## other models in library not in medformer"
   ]
  },
  {
   "cell_type": "markdown",
   "id": "0843db7a-aae2-4571-9c79-fa6e13f69bdc",
   "metadata": {},
   "source": [
    "## FreTS -- only designed for forecasting"
   ]
  },
  {
   "cell_type": "code",
   "execution_count": 13,
   "id": "35a86c10-6d9a-41db-a003-e8a746c9442c",
   "metadata": {},
   "outputs": [],
   "source": [
    "# from models.FreTS import Model\n",
    "# model = Model(args).float()\n",
    "# out = model(data0, temp_mask, None, None)"
   ]
  },
  {
   "cell_type": "markdown",
   "id": "0a2d78fe-026f-4fae-a2a5-62a721c0bed9",
   "metadata": {},
   "source": [
    "## Koopa - some error"
   ]
  },
  {
   "cell_type": "code",
   "execution_count": 23,
   "id": "a5a4402e-3aa7-428c-a9a7-05ff771509be",
   "metadata": {},
   "outputs": [],
   "source": [
    "# from models.Koopa import Model\n",
    "# model = Model(args).float()"
   ]
  },
  {
   "cell_type": "markdown",
   "id": "23ee1a6a-3315-47a5-a2e0-583788d0bc37",
   "metadata": {},
   "source": [
    "## LightTS"
   ]
  },
  {
   "cell_type": "code",
   "execution_count": 24,
   "id": "c6699405-1228-4dbb-90f0-9ecc478f85bf",
   "metadata": {},
   "outputs": [],
   "source": [
    "from models.LightTS import Model"
   ]
  },
  {
   "cell_type": "code",
   "execution_count": 25,
   "id": "353bfb9d-5552-46dc-93ed-dec83c81da40",
   "metadata": {},
   "outputs": [],
   "source": [
    "model = Model(args).float()"
   ]
  },
  {
   "cell_type": "code",
   "execution_count": 26,
   "id": "33a0524c-4ce4-4082-b564-de42200747a6",
   "metadata": {},
   "outputs": [],
   "source": [
    "out = model(data0, temp_mask, None, None)"
   ]
  },
  {
   "cell_type": "code",
   "execution_count": 28,
   "id": "c6e41884-43cc-4606-8c87-f908cdcdb247",
   "metadata": {},
   "outputs": [
    {
     "name": "stdout",
     "output_type": "stream",
     "text": [
      "Number of parameters: 204871\n"
     ]
    }
   ],
   "source": [
    "total_params = sum(p.numel() for p in model.parameters())\n",
    "print(f\"Number of parameters: {total_params}\")"
   ]
  },
  {
   "cell_type": "code",
   "execution_count": 29,
   "id": "49489d01-e4a9-47cb-b46b-e56db6e6e82b",
   "metadata": {},
   "outputs": [
    {
     "data": {
      "text/plain": [
       "tensor([[ 0.0654],\n",
       "        [ 0.0211],\n",
       "        [ 0.2360],\n",
       "        [-0.0221],\n",
       "        [ 0.0389],\n",
       "        [-0.0444],\n",
       "        [-0.1987],\n",
       "        [-0.5875],\n",
       "        [-0.3315],\n",
       "        [ 0.0381]], grad_fn=<AddmmBackward0>)"
      ]
     },
     "execution_count": 29,
     "metadata": {},
     "output_type": "execute_result"
    }
   ],
   "source": [
    "out"
   ]
  },
  {
   "cell_type": "markdown",
   "id": "73ac0fcd-77df-47b3-b38e-f05c036319f6",
   "metadata": {},
   "source": [
    "## MICN"
   ]
  },
  {
   "cell_type": "code",
   "execution_count": 11,
   "id": "3f5acf4b-4d49-4df7-8ee0-84b3c6a3f45f",
   "metadata": {},
   "outputs": [],
   "source": [
    "from models.MICN import Model"
   ]
  },
  {
   "cell_type": "code",
   "execution_count": 27,
   "id": "ace8568d-7c9e-4c33-8ada-4d6b6319180e",
   "metadata": {},
   "outputs": [],
   "source": [
    "# del model"
   ]
  },
  {
   "cell_type": "code",
   "execution_count": 28,
   "id": "6e596421-27d0-4758-885e-cc510851c63a",
   "metadata": {},
   "outputs": [],
   "source": [
    "model = Model(args).float()"
   ]
  },
  {
   "cell_type": "code",
   "execution_count": 35,
   "id": "70210176-14ed-4df7-bf11-febd14b564fa",
   "metadata": {},
   "outputs": [
    {
     "name": "stdout",
     "output_type": "stream",
     "text": [
      "Number of parameters: 252296\n"
     ]
    }
   ],
   "source": [
    "total_params = sum(p.numel() for p in model.parameters())\n",
    "print(f\"Number of parameters: {total_params}\")"
   ]
  },
  {
   "cell_type": "code",
   "execution_count": 5,
   "id": "cecf7cd9-7cad-42f3-a142-275d92de5852",
   "metadata": {},
   "outputs": [],
   "source": [
    "# model.to(device)"
   ]
  },
  {
   "cell_type": "code",
   "execution_count": 30,
   "id": "1b4f553a-1330-4644-a458-c6f401e03271",
   "metadata": {},
   "outputs": [
    {
     "data": {
      "text/plain": [
       "torch.Size([10, 288, 231])"
      ]
     },
     "execution_count": 30,
     "metadata": {},
     "output_type": "execute_result"
    }
   ],
   "source": [
    "data0.shape"
   ]
  },
  {
   "cell_type": "code",
   "execution_count": 7,
   "id": "a9e1e6a8-4cfc-4116-90e9-9611ebf3f019",
   "metadata": {},
   "outputs": [],
   "source": [
    "temp_mask = torch.ones(10, 288) "
   ]
  },
  {
   "cell_type": "code",
   "execution_count": 8,
   "id": "5d4a77b0-cac8-416d-a891-45c117bbd6e8",
   "metadata": {},
   "outputs": [],
   "source": [
    "# temp_mask = temp_mask.to(device)"
   ]
  },
  {
   "cell_type": "code",
   "execution_count": 33,
   "id": "37609c51-0e6a-4048-a644-0b7c0c156b97",
   "metadata": {},
   "outputs": [
    {
     "name": "stdout",
     "output_type": "stream",
     "text": [
      "output shape after dropout torch.Size([10, 288, 231])\n"
     ]
    }
   ],
   "source": [
    "out = model(data0, temp_mask, None, None)"
   ]
  },
  {
   "cell_type": "code",
   "execution_count": 34,
   "id": "923740e6-d9b4-4538-b6b1-f3010f82a2fe",
   "metadata": {},
   "outputs": [
    {
     "data": {
      "text/plain": [
       "tensor([[-0.2415],\n",
       "        [-0.2294],\n",
       "        [-0.4476],\n",
       "        [-0.0495],\n",
       "        [-0.3401],\n",
       "        [-0.3558],\n",
       "        [-0.1783],\n",
       "        [-0.1052],\n",
       "        [-0.4631],\n",
       "        [ 0.0183]], device='cuda:0', grad_fn=<AddmmBackward0>)"
      ]
     },
     "execution_count": 34,
     "metadata": {},
     "output_type": "execute_result"
    }
   ],
   "source": [
    "out"
   ]
  },
  {
   "cell_type": "markdown",
   "id": "3c6a6e42-963a-487b-aa70-4d9e670c4d8d",
   "metadata": {},
   "source": [
    "## Pyraformer"
   ]
  },
  {
   "cell_type": "code",
   "execution_count": 16,
   "id": "e80c9c3a-5776-4d40-8bd2-2750facf0267",
   "metadata": {},
   "outputs": [],
   "source": [
    "from models.Pyraformer import Model"
   ]
  },
  {
   "cell_type": "code",
   "execution_count": 17,
   "id": "4706f456-d60e-4bdd-8bf6-5398d5c9ee4f",
   "metadata": {},
   "outputs": [],
   "source": [
    "model = Model(args).float()"
   ]
  },
  {
   "cell_type": "code",
   "execution_count": 18,
   "id": "49b0b92f-3b5b-4641-af95-636a7523f98d",
   "metadata": {},
   "outputs": [],
   "source": [
    "out = model(data0, temp_mask, None, None)"
   ]
  },
  {
   "cell_type": "code",
   "execution_count": 19,
   "id": "86b3230c-d840-4b25-9fda-61dd10e85c1b",
   "metadata": {},
   "outputs": [
    {
     "data": {
      "text/plain": [
       "tensor([[-0.1359],\n",
       "        [-0.0692],\n",
       "        [ 0.0986],\n",
       "        [-0.2031],\n",
       "        [-0.2461],\n",
       "        [-0.0591],\n",
       "        [-0.1812],\n",
       "        [-0.0093],\n",
       "        [-0.2031],\n",
       "        [-0.1888]], grad_fn=<AddmmBackward0>)"
      ]
     },
     "execution_count": 19,
     "metadata": {},
     "output_type": "execute_result"
    }
   ],
   "source": [
    "out"
   ]
  },
  {
   "cell_type": "markdown",
   "id": "34e0ea6f-80d5-4af6-84c3-e18bd3e80df9",
   "metadata": {},
   "source": [
    "## SCINet  - only forecasting"
   ]
  },
  {
   "cell_type": "code",
   "execution_count": 25,
   "id": "ead03f62-693a-486b-ae93-f0441c1ac9d7",
   "metadata": {},
   "outputs": [],
   "source": [
    "# from models.SCINet import Model"
   ]
  },
  {
   "cell_type": "code",
   "execution_count": 26,
   "id": "a722d9a6-f995-4683-b271-822c6a7ed4d2",
   "metadata": {},
   "outputs": [],
   "source": [
    "# model = Model(args).float()"
   ]
  },
  {
   "cell_type": "code",
   "execution_count": 27,
   "id": "5e9857ba-d38f-4370-8378-01e8c874b416",
   "metadata": {},
   "outputs": [],
   "source": [
    "# out = model(data0, temp_mask, None, None)"
   ]
  },
  {
   "cell_type": "markdown",
   "id": "b2f5b1db-c350-4568-a1a3-40dee6d3d4ce",
   "metadata": {},
   "source": [
    "## SegRNN"
   ]
  },
  {
   "cell_type": "code",
   "execution_count": 28,
   "id": "3cfa5a4a-a235-4801-b8a0-c61da7f89b1d",
   "metadata": {},
   "outputs": [],
   "source": [
    "from models.SegRNN import Model"
   ]
  },
  {
   "cell_type": "code",
   "execution_count": 32,
   "id": "ed9699b4-ea6b-4f01-b9b7-6222d9ace6a4",
   "metadata": {},
   "outputs": [],
   "source": [
    "model = Model(args).float()"
   ]
  },
  {
   "cell_type": "code",
   "execution_count": 33,
   "id": "b636e568-4bca-47cf-8130-2385229334c7",
   "metadata": {},
   "outputs": [],
   "source": [
    "out = model(data0, temp_mask, None, None)"
   ]
  },
  {
   "cell_type": "code",
   "execution_count": 34,
   "id": "d7107fb5-86b5-490a-b4d3-900f001a236e",
   "metadata": {},
   "outputs": [
    {
     "data": {
      "text/plain": [
       "tensor([[-0.1167],\n",
       "        [-0.4970],\n",
       "        [ 0.1222],\n",
       "        [-0.0476],\n",
       "        [-0.3599],\n",
       "        [-0.5090],\n",
       "        [-0.1588],\n",
       "        [-0.5523],\n",
       "        [ 0.1799],\n",
       "        [ 0.3940]], grad_fn=<AddmmBackward0>)"
      ]
     },
     "execution_count": 34,
     "metadata": {},
     "output_type": "execute_result"
    }
   ],
   "source": [
    "out"
   ]
  },
  {
   "cell_type": "markdown",
   "id": "ba3b4baf-483e-44d9-91c3-c2228c356b07",
   "metadata": {},
   "source": [
    "## TSMixer -- only forecasting"
   ]
  },
  {
   "cell_type": "code",
   "execution_count": 38,
   "id": "f0383c64-9ae2-4d50-b77a-09428e4eec11",
   "metadata": {},
   "outputs": [],
   "source": [
    "# from models.TSMixer import Model\n",
    "# model = Model(args).float()\n",
    "# out = model(data0, temp_mask, None, None)"
   ]
  },
  {
   "cell_type": "markdown",
   "id": "825eaf91-472c-4e5d-8614-40c71bb6be7e",
   "metadata": {},
   "source": [
    "## TemporalFusionTransformer -- only forecasting"
   ]
  },
  {
   "cell_type": "code",
   "execution_count": null,
   "id": "b1081cb3-e491-4e55-bf24-16ed86e12afc",
   "metadata": {},
   "outputs": [],
   "source": [
    "# out = model(data0, temp_mask, None, None)"
   ]
  },
  {
   "cell_type": "markdown",
   "id": "34b76793-359e-4135-ab3a-e783ee9028ae",
   "metadata": {},
   "source": [
    "## TiDE -- only forecasting"
   ]
  },
  {
   "cell_type": "code",
   "execution_count": 44,
   "id": "cc508a78-bf67-44bd-b1a6-92493a02f99a",
   "metadata": {},
   "outputs": [],
   "source": [
    "# from models.TiDE import Model\n",
    "# model = Model(args).float()\n",
    "# out = model(data0, temp_mask, None, None)"
   ]
  },
  {
   "cell_type": "markdown",
   "id": "75a8838f-3a0d-45f0-95aa-bfc302d6c48e",
   "metadata": {},
   "source": [
    "## TimeMixer -- has multiple variants"
   ]
  },
  {
   "cell_type": "code",
   "execution_count": 89,
   "id": "721a79c3-b617-4331-b17a-6e49a8a34931",
   "metadata": {},
   "outputs": [],
   "source": [
    "from models.TimeMixer import Model"
   ]
  },
  {
   "cell_type": "code",
   "execution_count": 120,
   "id": "1e5e9977-65d5-4407-96e0-7410d8e82d03",
   "metadata": {},
   "outputs": [],
   "source": [
    "model = Model(args).float()"
   ]
  },
  {
   "cell_type": "code",
   "execution_count": 121,
   "id": "1c95345f-c29b-4dc7-a7e3-fe48a7c45320",
   "metadata": {},
   "outputs": [],
   "source": [
    "out = model(data0, temp_mask, None, None)"
   ]
  },
  {
   "cell_type": "code",
   "execution_count": 122,
   "id": "2a31fad4-072c-49af-9fd1-7821953461fb",
   "metadata": {},
   "outputs": [
    {
     "data": {
      "text/plain": [
       "tensor([[-0.0963],\n",
       "        [-0.0755],\n",
       "        [-0.0567],\n",
       "        [-0.0482],\n",
       "        [-0.0266],\n",
       "        [-0.0754],\n",
       "        [-0.0576],\n",
       "        [-0.1013],\n",
       "        [-0.0866],\n",
       "        [-0.0795]], grad_fn=<AddmmBackward0>)"
      ]
     },
     "execution_count": 122,
     "metadata": {},
     "output_type": "execute_result"
    }
   ],
   "source": [
    "out"
   ]
  },
  {
   "cell_type": "markdown",
   "id": "e4b9dc88-21a2-46d9-8992-2e5f6be3a685",
   "metadata": {},
   "source": [
    "## TimesNet"
   ]
  },
  {
   "cell_type": "code",
   "execution_count": 9,
   "id": "98ccc787-849a-4ee0-a9fe-2fd5f7ae732f",
   "metadata": {},
   "outputs": [],
   "source": [
    "from models.TimesNet import Model"
   ]
  },
  {
   "cell_type": "code",
   "execution_count": 10,
   "id": "72ed21b0-dcf4-4aa3-a8db-1c1a9153b0e3",
   "metadata": {},
   "outputs": [],
   "source": [
    "model = Model(args).float()"
   ]
  },
  {
   "cell_type": "code",
   "execution_count": 11,
   "id": "510d4aeb-d496-41a1-a5b0-0277d130e121",
   "metadata": {},
   "outputs": [
    {
     "name": "stdout",
     "output_type": "stream",
     "text": [
      "Number of parameters: 46897\n"
     ]
    }
   ],
   "source": [
    "total_params = sum(p.numel() for p in model.parameters())\n",
    "print(f\"Number of parameters: {total_params}\")"
   ]
  },
  {
   "cell_type": "code",
   "execution_count": 12,
   "id": "d91b9d17-9456-4fad-beef-3ccfc1f0636b",
   "metadata": {},
   "outputs": [],
   "source": [
    "out = model(data0, temp_mask, None, None)"
   ]
  },
  {
   "cell_type": "code",
   "execution_count": 13,
   "id": "7bfae28b-e1e9-4fbe-ae5a-dfda7a1b95d9",
   "metadata": {},
   "outputs": [
    {
     "data": {
      "text/plain": [
       "tensor([[ 0.1337],\n",
       "        [-0.3937],\n",
       "        [ 0.5154],\n",
       "        [-0.1321],\n",
       "        [-0.5857],\n",
       "        [ 0.1846],\n",
       "        [-0.0186],\n",
       "        [-0.3671],\n",
       "        [ 0.0922],\n",
       "        [-0.2147]], grad_fn=<AddmmBackward0>)"
      ]
     },
     "execution_count": 13,
     "metadata": {},
     "output_type": "execute_result"
    }
   ],
   "source": [
    "out"
   ]
  },
  {
   "cell_type": "markdown",
   "id": "7934548e-52f4-432f-96f4-860bcfcf63d2",
   "metadata": {},
   "source": [
    "# So, finally which models worked"
   ]
  },
  {
   "cell_type": "markdown",
   "id": "9a032734-c30c-49cd-9d7b-8fac83fd3125",
   "metadata": {},
   "source": [
    "| Model Name                    | Type |Reference                    | Works |\n",
    "|-------------------------------|-------------------------------|-------------------------------|-------------------------------|\n",
    "| Autoformer.py                 |Transformer|https://arxiv.org/abs/2106.13008, https://openreview.net/pdf?id=I55UqU-M11y| YES\n",
    "| Crossformer.py                |Transformer|https://openreview.net/forum?id=vSVLM2j9eie| YES\n",
    "| DLinear.py                    |MLP|https://arxiv.org/pdf/2205.13504.pdf| YES\n",
    "| ETSformer.py                  |Transformer|https://arxiv.org/abs/2202.01381| YES\n",
    "| FEDformer.py                  |Transformer|https://proceedings.mlr.press/v162/zhou22g/zhou22g.pdf|YES\n",
    "| Informer.py                   |Transformer|https://doi.org/10.1609/aaai.v35i12.17325|YES\n",
    "| LightTS.py                    |MLP|https://arxiv.org/abs/2207.01186|YES\n",
    "| MTST.py                       |Transformer|https://arxiv.org/abs/2207.01186|YES\n",
    "| MICN.py                       |Convolution|https://openreview.net/pdf?id=zt53IDUR1U|YES\n",
    "| Nonstationary_Transformer.py  |Transformer|https://arxiv.org/abs/2205.14415|YES\n",
    "| PatchTST.py                   |Transformer|https://arxiv.org/abs/2211.14730|YES\n",
    "| Pyraformer.py                 |Transformer|https://arxiv.org/abs/2402.05956|YES\n",
    "| Reformer.py                   |Transformer|https://arxiv.org/abs/2001.04451|YES\n",
    "| SegRNN.py                     |RNN|https://arxiv.org/abs/2308.11200.pdf|YES\n",
    "| TimeMixer.py                  |MLP|https://arxiv.org/abs/2405.14616|YES\n",
    "| TimesNet.py                   |Convolution|https://openreview.net/pdf?id=ju_Uqw384Oq, https://github.com/thuml/TimesNet|YES\n",
    "| Transformer.py                |Transformer|https://arxiv.org/abs/1706.03762|YES\n",
    "| iTransformer.py               |Transformer|https://arxiv.org/abs/2310.06625|YES\n",
    "| Medformer.py                  |Transformer|https://arxiv.org/pdf/2405.19363|YES"
   ]
  },
  {
   "cell_type": "code",
   "execution_count": null,
   "id": "ab7aef28-179d-4f04-95d6-1f91868994c2",
   "metadata": {},
   "outputs": [],
   "source": []
  }
 ],
 "metadata": {
  "kernelspec": {
   "display_name": "Python 3 (ipykernel)",
   "language": "python",
   "name": "python3"
  },
  "language_info": {
   "codemirror_mode": {
    "name": "ipython",
    "version": 3
   },
   "file_extension": ".py",
   "mimetype": "text/x-python",
   "name": "python",
   "nbconvert_exporter": "python",
   "pygments_lexer": "ipython3",
   "version": "3.9.20"
  }
 },
 "nbformat": 4,
 "nbformat_minor": 5
}
